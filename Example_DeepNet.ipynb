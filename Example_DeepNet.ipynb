{
  "nbformat": 4,
  "nbformat_minor": 0,
  "metadata": {
    "kernelspec": {
      "display_name": "Python 3",
      "language": "python",
      "name": "python3"
    },
    "language_info": {
      "codemirror_mode": {
        "name": "ipython",
        "version": 3
      },
      "file_extension": ".py",
      "mimetype": "text/x-python",
      "name": "python",
      "nbconvert_exporter": "python",
      "pygments_lexer": "ipython3",
      "version": "3.8.2"
    },
    "colab": {
      "name": "Example_DeepNet.ipynb",
      "provenance": []
    }
  },
  "cells": [
    {
      "cell_type": "markdown",
      "metadata": {
        "id": "5AE1RGXgHjU6"
      },
      "source": [
        "<a href=\"https://colab.research.google.com/github/pdh21/OCF_PVmapper/blob/main/Example_DeepNet.ipynb\">\n",
        "  <img src=\"https://colab.research.google.com/assets/colab-badge.svg\" alt=\"Open In Colab\"/>\n",
        "</a>\n",
        "\n",
        "![](https://avatars.githubusercontent.com/u/48357542?s=200&v=4)\n",
        "\n",
        "## PV mapping Example:\n",
        "[Peter Hurley](http://pdh21.github.io/) \n",
        "\n",
        "In this notebook, we will give a simple example of training a deep net to detect solar panels from remote sensing data. "
      ]
    },
    {
      "cell_type": "code",
      "metadata": {
        "id": "rkUTlJf9HjVR"
      },
      "source": [
        "from google.colab import drive\n",
        "\n",
        "drive.mount(‘/content/gdrive’)"
      ],
      "execution_count": null,
      "outputs": []
    }
  ]
}